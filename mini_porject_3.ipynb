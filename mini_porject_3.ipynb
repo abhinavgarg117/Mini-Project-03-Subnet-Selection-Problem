{
  "nbformat": 4,
  "nbformat_minor": 0,
  "metadata": {
    "colab": {
      "provenance": [],
      "include_colab_link": true
    },
    "kernelspec": {
      "name": "python3",
      "display_name": "Python 3"
    },
    "language_info": {
      "name": "python"
    }
  },
  "cells": [
    {
      "cell_type": "markdown",
      "metadata": {
        "id": "view-in-github",
        "colab_type": "text"
      },
      "source": [
        "<a href=\"https://colab.research.google.com/github/abhinavgarg117/Mini-Project-03-Subnet-Selection-Problem/blob/main/mini_porject_3.ipynb\" target=\"_parent\"><img src=\"https://colab.research.google.com/assets/colab-badge.svg\" alt=\"Open In Colab\"/></a>"
      ]
    },
    {
      "cell_type": "markdown",
      "source": [
        "# **Subset Selection Problem**"
      ],
      "metadata": {
        "id": "GPXMXfXZq7i9"
      }
    },
    {
      "cell_type": "markdown",
      "source": [
        "**1. Problem Statement**:\n",
        "\n",
        "Find all the subsets from a set of numbers whose sum is zero.\n",
        "\n",
        "Constraint: Subset size must be 5\n",
        "\n",
        "Set={-12, -3, -6, 7, 2, -2, 6, 3, 9, -7, -5, -8, 1, 11, -9, -4}"
      ],
      "metadata": {
        "id": "WsWQlBJ1rJwJ"
      }
    },
    {
      "cell_type": "code",
      "execution_count": null,
      "metadata": {
        "colab": {
          "base_uri": "https://localhost:8080/"
        },
        "id": "0N3Jvq50q39s",
        "outputId": "cbc77148-7171-48cb-9fa3-d1baac3a7598"
      },
      "outputs": [
        {
          "output_type": "stream",
          "name": "stdout",
          "text": [
            "\n",
            "Subsets of size 5 whose sum is 0:\n",
            "\n",
            "(-12, -7, 3, 7, 9)\n",
            "(-12, -6, -2, 9, 11)\n",
            "(-12, -6, 1, 6, 11)\n",
            "(-12, -5, -3, 9, 11)\n",
            "(-12, -5, 1, 7, 9)\n",
            "(-12, -4, 1, 6, 9)\n",
            "(-9, -8, -3, 9, 11)\n",
            "(-9, -7, -4, 9, 11)\n",
            "(-9, -7, 2, 3, 11)\n",
            "(-9, -5, 1, 6, 7)\n",
            "(-9, -5, 2, 3, 9)\n",
            "(-9, -4, -2, 6, 9)\n",
            "(-8, -6, -4, 7, 11)\n",
            "(-8, -6, -2, 7, 9)\n",
            "(-8, -5, -2, 6, 9)\n",
            "(-8, -5, 1, 3, 9)\n",
            "(-8, -4, 1, 2, 9)\n",
            "(-8, -3, -2, 6, 7)\n",
            "(-8, -3, 1, 3, 7)\n",
            "(-8, -3, 2, 3, 6)\n",
            "(-8, -2, 1, 3, 6)\n",
            "(-7, -6, -3, 7, 9)\n",
            "(-7, -6, -2, 6, 9)\n",
            "(-7, -5, -3, 6, 9)\n",
            "(-7, -5, 2, 3, 7)\n",
            "(-7, -3, -2, 1, 11)\n",
            "(-7, -3, 1, 2, 7)\n",
            "(-6, -5, -2, 2, 11)\n",
            "(-6, -4, -3, 6, 7)\n",
            "(-6, -4, -2, 1, 11)\n",
            "(-6, -4, 1, 2, 7)\n",
            "(-6, -3, 1, 2, 6)\n",
            "\n",
            "Total Sets Found: 32\n"
          ]
        }
      ],
      "source": [
        "import random as r\n",
        "\n",
        "Set = set([-12, -3, -6, 7, 2, -2, 6, 3, 9, -7, -5, -8, 1, 11, -9, -4])\n",
        "setSize = 5\n",
        "resultList = set()\n",
        "iterations = 1000\n",
        "\n",
        "\n",
        "SetAsList = list(Set)\n",
        "\n",
        "for i in range(iterations):\n",
        "  check = r.sample(SetAsList,setSize)\n",
        "  check.sort()\n",
        "\n",
        "  if sum(check) == 0:\n",
        "    resultList.add(tuple(check))\n",
        "\n",
        "print(\"\\nSubsets of size 5 whose sum is 0:\\n\")\n",
        "for r in sorted(resultList):\n",
        "    print(r)\n",
        "\n",
        "print(\"\\nTotal Sets Found:\", len(resultList))"
      ]
    },
    {
      "cell_type": "markdown",
      "source": [
        "**2. Problem Statement**:\n",
        "\n",
        "Find all the subsets from a set of numbers whose sum is zero.\n",
        "\n",
        "Constraint: Subset size must be 3 to 6 only\n",
        "\n",
        "Set={-12, -3, -6, 7, 2, -2, 6, 3, 9, -7, -5, -8, 1, 11, -9, -4}"
      ],
      "metadata": {
        "id": "TBbNzcKj3GK1"
      }
    },
    {
      "cell_type": "code",
      "source": [
        "import random as r\n",
        "\n",
        "Set = set([-12, -3, -6, 7, 2, -2, 6, 3, 9, -7, -5, -8, 1, 11, -9, -4])\n",
        "setLB=3\n",
        "setUB=6\n",
        "resultList = set()\n",
        "iterations = 1000\n",
        "\n",
        "SetAsList = list(Set)\n",
        "\n",
        "for i in range(iterations):\n",
        "  setSize = r.randint(setLB,setUB)\n",
        "  check = r.sample(SetAsList,setSize)\n",
        "  check.sort()\n",
        "\n",
        "  if sum(check) == 0:\n",
        "    resultList.add(tuple(check))\n",
        "\n",
        "print(\"\\nSubsets of size 3 to 6 whose sum is 0:\\n\")\n",
        "for r in sorted(resultList):\n",
        "    print(r)\n",
        "\n",
        "print(\"\\nTotal Sets Found:\", len(resultList))\n"
      ],
      "metadata": {
        "colab": {
          "base_uri": "https://localhost:8080/"
        },
        "id": "ZKsTAAc82vuN",
        "outputId": "f40cbc4f-5e1e-4462-c885-0d931bbd8413"
      },
      "execution_count": null,
      "outputs": [
        {
          "output_type": "stream",
          "name": "stdout",
          "text": [
            "\n",
            "Subsets of size 3 to 6 whose sum is 0:\n",
            "\n",
            "(-12, -8, 2, 7, 11)\n",
            "(-12, -5, 6, 11)\n",
            "(-12, -4, -3, 2, 6, 11)\n",
            "(-12, -4, 7, 9)\n",
            "(-12, -2, 3, 11)\n",
            "(-12, 1, 2, 9)\n",
            "(-12, 3, 9)\n",
            "(-9, -8, -7, 6, 7, 11)\n",
            "(-9, -8, -5, 6, 7, 9)\n",
            "(-9, -8, -4, 1, 9, 11)\n",
            "(-9, -5, 3, 11)\n",
            "(-9, -4, 6, 7)\n",
            "(-9, -2, 11)\n",
            "(-9, 3, 6)\n",
            "(-8, -7, 6, 9)\n",
            "(-8, -5, 6, 7)\n",
            "(-7, -6, -5, 3, 6, 9)\n",
            "(-7, -6, -4, -3, 9, 11)\n",
            "(-7, -6, -4, 1, 7, 9)\n",
            "(-7, -4, -3, 3, 11)\n",
            "(-7, -4, 11)\n",
            "(-6, -5, -4, -2, 6, 11)\n",
            "(-6, -5, 1, 3, 7)\n",
            "(-6, -5, 2, 3, 6)\n",
            "(-5, -4, -3, 1, 11)\n",
            "(-4, -3, 7)\n",
            "(-4, 1, 3)\n",
            "\n",
            "Total Sets Found: 27\n"
          ]
        }
      ]
    }
  ]
}